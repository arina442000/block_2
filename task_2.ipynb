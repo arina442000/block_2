{
 "cells": [
  {
   "cell_type": "code",
   "execution_count": 257,
   "metadata": {},
   "outputs": [],
   "source": [
    "import pandas as pd\n",
    "import datetime"
   ]
  },
  {
   "cell_type": "code",
   "execution_count": 258,
   "metadata": {},
   "outputs": [],
   "source": [
    "file = pd.read_csv('data_info.csv',delimiter=',')"
   ]
  },
  {
   "cell_type": "code",
   "execution_count": 259,
   "metadata": {},
   "outputs": [
    {
     "name": "stdout",
     "output_type": "stream",
     "text": [
      "66\n"
     ]
    }
   ],
   "source": [
    "length=file.loc[:,'PlayerId'].count()\n",
    "print(length)"
   ]
  },
  {
   "cell_type": "code",
   "execution_count": 260,
   "metadata": {},
   "outputs": [
    {
     "name": "stdout",
     "output_type": "stream",
     "text": [
      "13\n"
     ]
    }
   ],
   "source": [
    "number_of_users = file['PlayerId'].nunique()\n",
    "print(number_of_users)"
   ]
  },
  {
   "cell_type": "code",
   "execution_count": 261,
   "metadata": {},
   "outputs": [
    {
     "name": "stdout",
     "output_type": "stream",
     "text": [
      "<class 'pandas.core.frame.DataFrame'>\n",
      "RangeIndex: 66 entries, 0 to 65\n",
      "Data columns (total 3 columns):\n",
      " #   Column    Non-Null Count  Dtype         \n",
      "---  ------    --------------  -----         \n",
      " 0   PlayerId  66 non-null     object        \n",
      " 1   Event     66 non-null     object        \n",
      " 2   Date      66 non-null     datetime64[ns]\n",
      "dtypes: datetime64[ns](1), object(2)\n",
      "memory usage: 1.7+ KB\n"
     ]
    }
   ],
   "source": [
    "file['Date']=pd.to_datetime(file['Date'])\n",
    "file.info()"
   ]
  },
  {
   "cell_type": "code",
   "execution_count": 262,
   "metadata": {},
   "outputs": [
    {
     "name": "stdout",
     "output_type": "stream",
     "text": [
      "                               PlayerId          Event       Date\n",
      "0  b91eedaf-ba56-4b80-9c23-cd5d48595579        Install 2020-05-03\n",
      "1  b91eedaf-ba56-4b80-9c23-cd5d48595579  Session Start 2020-05-03\n",
      "2  b91eedaf-ba56-4b80-9c23-cd5d48595579  Session Start 2020-05-04\n",
      "3  b91eedaf-ba56-4b80-9c23-cd5d48595579  Session Start 2020-05-05\n",
      "4  b91eedaf-ba56-4b80-9c23-cd5d48595579  Session Start 2020-05-06\n",
      "5  b91eedaf-ba56-4b80-9c23-cd5d48595579  Session Start 2020-05-09\n",
      "6  b91eedaf-ba56-4b80-9c23-cd5d48595579  Session Start 2020-05-11\n",
      "7  844cefb1-dcbc-4ceb-90e4-198c13781f49  Session Start 2020-05-03\n",
      "8  844cefb1-dcbc-4ceb-90e4-198c13781f49  Session Start 2020-05-04\n",
      "9  844cefb1-dcbc-4ceb-90e4-198c13781f49        Install 2020-05-03\n"
     ]
    }
   ],
   "source": [
    "print(file.head(10))"
   ]
  },
  {
   "cell_type": "code",
   "execution_count": 263,
   "metadata": {},
   "outputs": [],
   "source": [
    "file = file.sort_values(by = ['PlayerId','Event']).reset_index(drop=True)"
   ]
  },
  {
   "cell_type": "code",
   "execution_count": 264,
   "metadata": {
    "scrolled": true
   },
   "outputs": [
    {
     "name": "stdout",
     "output_type": "stream",
     "text": [
      "                                PlayerId          Event       Date\n",
      "61  f1ae9e16-349d-4db3-b1a0-f4e2bc9b8f8d  Session Start 2020-05-02\n",
      "62  f1ae9e16-349d-4db3-b1a0-f4e2bc9b8f8d  Session Start 2020-05-02\n",
      "63  f1ae9e16-349d-4db3-b1a0-f4e2bc9b8f8d  Session Start 2020-05-03\n",
      "64  f1ae9e16-349d-4db3-b1a0-f4e2bc9b8f8d  Session Start 2020-05-03\n",
      "65  f1ae9e16-349d-4db3-b1a0-f4e2bc9b8f8d  Session Start 2020-05-03\n"
     ]
    }
   ],
   "source": [
    "print(file.tail(5))"
   ]
  },
  {
   "cell_type": "code",
   "execution_count": 266,
   "metadata": {},
   "outputs": [
    {
     "name": "stdout",
     "output_type": "stream",
     "text": [
      "                                PlayerId          Event       Date\n",
      "61  f1ae9e16-349d-4db3-b1a0-f4e2bc9b8f8d  Session Start 2020-05-02\n",
      "62  f1ae9e16-349d-4db3-b1a0-f4e2bc9b8f8d  Session Start 2020-05-02\n",
      "63  f1ae9e16-349d-4db3-b1a0-f4e2bc9b8f8d  Session Start 2020-05-03\n",
      "64  f1ae9e16-349d-4db3-b1a0-f4e2bc9b8f8d  Session Start 2020-05-03\n",
      "65  f1ae9e16-349d-4db3-b1a0-f4e2bc9b8f8d  Session Start 2020-05-03\n"
     ]
    }
   ],
   "source": [
    "print(file.tail(5))"
   ]
  },
  {
   "cell_type": "code",
   "execution_count": 267,
   "metadata": {},
   "outputs": [],
   "source": [
    "retention_F = 0\n",
    "retention_S = 0\n",
    "retention_OF = 0\n",
    "rolling_T = 0\n",
    "i = 1\n",
    "install_index = 0"
   ]
  },
  {
   "cell_type": "code",
   "execution_count": 268,
   "metadata": {},
   "outputs": [],
   "source": [
    "while i < length - 1 :\n",
    "    roll= False\n",
    "    first = False\n",
    "    seven = False\n",
    "    four = False\n",
    "    if file.loc[i-1,'Event'] == 'Install':\n",
    "        install_index = i-1\n",
    "    else:\n",
    "        i += 1\n",
    "        continue\n",
    "    while file.loc[i,'PlayerId'] == file.loc[i-1,'PlayerId'] and i < length-1  :\n",
    "        if(file.loc[i,'Date']-file.loc[install_index,'Date']).days >= 3 and roll == False:\n",
    "            roll = True\n",
    "            rolling_T += 1\n",
    "        if(file.loc[i,'Date']-file.loc[install_index,'Date']).days == 1 and first == False:\n",
    "            first = True\n",
    "            retention_F += 1\n",
    "        if(file.loc[i,'Date']-file.loc[install_index,'Date']).days == 7 and seven == False:\n",
    "            seven = True\n",
    "            retention_S += 1\n",
    "        if(file.loc[i,'Date']-file.loc[install_index,'Date']).days == 14 and four == False:\n",
    "            retention_OF += 1\n",
    "            four = True\n",
    "        i += 1             "
   ]
  },
  {
   "cell_type": "code",
   "execution_count": 269,
   "metadata": {},
   "outputs": [
    {
     "name": "stdout",
     "output_type": "stream",
     "text": [
      "1st day retention: 84.62%\n",
      "7th day retention: 15.38%\n",
      "14th day retention: 0.00%\n",
      "3rd day rolling retention: 53.85%\n"
     ]
    }
   ],
   "source": [
    "print('1st day retention: {0:.2%}\\n7th day retention: {1:.2%}\\n14th day retention: {2:.2%}\\n3rd day rolling retention: {3:.2%}'.format(retention_F/number_of_users,retention_S/number_of_users,retention_OF/number_of_users,rolling_T/number_of_users))\n"
   ]
  },
  {
   "cell_type": "code",
   "execution_count": null,
   "metadata": {},
   "outputs": [],
   "source": []
  }
 ],
 "metadata": {
  "kernelspec": {
   "display_name": "Python 3",
   "language": "python",
   "name": "python3"
  },
  "language_info": {
   "codemirror_mode": {
    "name": "ipython",
    "version": 3
   },
   "file_extension": ".py",
   "mimetype": "text/x-python",
   "name": "python",
   "nbconvert_exporter": "python",
   "pygments_lexer": "ipython3",
   "version": "3.8.5"
  }
 },
 "nbformat": 4,
 "nbformat_minor": 4
}
